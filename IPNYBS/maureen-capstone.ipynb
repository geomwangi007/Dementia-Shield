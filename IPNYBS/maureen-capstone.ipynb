version https://git-lfs.github.com/spec/v1
oid sha256:aa77a37dfda6771fc737f0ce23d3dbfa49ae399ee10932059fd8397bed2367b7
size 2468470
