version https://git-lfs.github.com/spec/v1
oid sha256:a58140a1d2c28347c216efd7c5dad27941a3ee9512018e37cd8702ec0fc58d21
size 665258
