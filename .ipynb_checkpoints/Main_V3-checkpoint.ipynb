version https://git-lfs.github.com/spec/v1
oid sha256:cddcb3d7f4814035dfa3d2032291259f32a6ce62d7e429f889b2ee8b052d8ac1
size 2676030
